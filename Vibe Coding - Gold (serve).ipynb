{
 "cells": [
  {
   "cell_type": "code",
   "execution_count": 0,
   "metadata": {
    "application/vnd.databricks.v1+cell": {
     "cellMetadata": {
      "byteLimit": 2048000,
      "rowLimit": 10000
     },
     "inputWidgets": {},
     "nuid": "c90d59a2-ef32-42f9-a11b-f30fe2ea374c",
     "showTitle": false,
     "tableResultSettingsMap": {},
     "title": ""
    }
   },
   "outputs": [],
   "source": [
    "# Databricks notebook cell: Create GOLD table gold_sales_monthly (AdventureWorksDW2017, idempotent)\n",
    "\n",
    "# --- Widgets: Set up CATALOG, SILVER_SCHEMA, GOLD_SCHEMA for notebook parameterization ---\n",
    "dbutils.widgets.text(\"CATALOG\", \"AdventureWorksDW2017\", \"Catalog Name\")\n",
    "dbutils.widgets.text(\"SILVER_SCHEMA\", \"silver\", \"Silver Schema Name\")\n",
    "dbutils.widgets.text(\"GOLD_SCHEMA\", \"gold\", \"Gold Schema Name\")"
   ]
  },
  {
   "cell_type": "code",
   "execution_count": 0,
   "metadata": {
    "application/vnd.databricks.v1+cell": {
     "cellMetadata": {
      "byteLimit": 2048000,
      "rowLimit": 10000
     },
     "inputWidgets": {},
     "nuid": "ebd3d761-a1c3-42b9-a700-3a242888b16d",
     "showTitle": false,
     "tableResultSettingsMap": {},
     "title": ""
    }
   },
   "outputs": [],
   "source": [
    "# --- Params (set these via dbutils.widgets or manually) ---\n",
    "try:\n",
    "    CATALOG = dbutils.widgets.get(\"CATALOG\")\n",
    "except Exception:\n",
    "    CATALOG = \"AdventureWorksDW2017\"\n",
    "\n",
    "try:\n",
    "    SILVER_SCHEMA = dbutils.widgets.get(\"SILVER_SCHEMA\")\n",
    "except Exception:\n",
    "    SILVER_SCHEMA = \"silver\"\n",
    "\n",
    "try:\n",
    "    GOLD_SCHEMA = dbutils.widgets.get(\"GOLD_SCHEMA\")\n",
    "except Exception:\n",
    "    GOLD_SCHEMA = \"gold\"\n",
    "\n",
    "GOLD_TABLE = \"gold_sales_monthly\"\n",
    "GOLD_PATH = f\"{CATALOG}.{GOLD_SCHEMA}.{GOLD_TABLE}\"\n",
    "\n",
    "# --- Ensure schema exists ---\n",
    "spark.sql(f\"CREATE SCHEMA IF NOT EXISTS {CATALOG}.{GOLD_SCHEMA}\")\n",
    "\n",
    "# --- Get available tables (from information_schema) ---\n",
    "silver_tables = set(\n",
    "    row.table_name for row in spark.sql(\n",
    "        f\"SELECT table_name FROM {CATALOG}.information_schema.tables WHERE table_schema = '{SILVER_SCHEMA}'\"\n",
    "    ).collect()\n",
    ")\n",
    "\n",
    "# --- Detect SALES_BASE or build it inline ---\n",
    "if \"SALES_BASE\" in {t.upper() for t in silver_tables}:\n",
    "    sales_base_sql = f\"SELECT * FROM {CATALOG}.{SILVER_SCHEMA}.SALES_BASE\"\n",
    "else:\n",
    "    # Compose union of FactInternetSales and FactResellerSales, joined to dims for all keys\n",
    "    sales_base_sql = f\"\"\"\n",
    "      SELECT\n",
    "        CAST(CONCAT(d.CalendarYear, LPAD(d.MonthNumberOfYear,2,'0')) AS STRING) AS yyyymm,\n",
    "        'Internet' AS channel,\n",
    "        pc.EnglishProductCategoryName AS product_category,\n",
    "        psc.EnglishProductSubcategoryName AS product_subcategory,\n",
    "        fs.SalesAmount,\n",
    "        fs.OrderQuantity,\n",
    "        fs.SalesOrderNumber,\n",
    "        fs.TotalProductCost\n",
    "      FROM {CATALOG}.{SILVER_SCHEMA}.FactInternetSales fs\n",
    "      LEFT JOIN {CATALOG}.{SILVER_SCHEMA}.DimDate d ON fs.OrderDateKey = d.DateKey\n",
    "      LEFT JOIN {CATALOG}.{SILVER_SCHEMA}.DimProduct p ON fs.ProductKey = p.ProductKey\n",
    "      LEFT JOIN {CATALOG}.{SILVER_SCHEMA}.DimProductSubcategory psc ON p.ProductSubcategoryKey = psc.ProductSubcategoryKey\n",
    "      LEFT JOIN {CATALOG}.{SILVER_SCHEMA}.DimProductCategory pc ON psc.ProductCategoryKey = pc.ProductCategoryKey\n",
    "\n",
    "      UNION ALL\n",
    "\n",
    "      SELECT\n",
    "        CAST(CONCAT(d.CalendarYear, LPAD(d.MonthNumberOfYear,2,'0')) AS STRING) AS yyyymm,\n",
    "        'Reseller' AS channel,\n",
    "        pc.EnglishProductCategoryName AS product_category,\n",
    "        psc.EnglishProductSubcategoryName AS product_subcategory,\n",
    "        fs.SalesAmount,\n",
    "        fs.OrderQuantity,\n",
    "        fs.SalesOrderNumber,\n",
    "        fs.TotalProductCost\n",
    "      FROM {CATALOG}.{SILVER_SCHEMA}.FactResellerSales fs\n",
    "      LEFT JOIN {CATALOG}.{SILVER_SCHEMA}.DimDate d ON fs.OrderDateKey = d.DateKey\n",
    "      LEFT JOIN {CATALOG}.{SILVER_SCHEMA}.DimProduct p ON fs.ProductKey = p.ProductKey\n",
    "      LEFT JOIN {CATALOG}.{SILVER_SCHEMA}.DimProductSubcategory psc ON p.ProductSubcategoryKey = psc.ProductSubcategoryKey\n",
    "      LEFT JOIN {CATALOG}.{SILVER_SCHEMA}.DimProductCategory pc ON psc.ProductCategoryKey = pc.ProductCategoryKey\n",
    "    \"\"\"\n",
    "\n",
    "# --- Create or replace the GOLD Delta table ---\n",
    "spark.sql(f\"\"\"\n",
    "CREATE OR REPLACE TABLE {GOLD_PATH}\n",
    "COMMENT 'Monthly aggregate sales by channel, product_category, product_subcategory (grain: yyyymm, channel, product_category, product_subcategory). Metrics: revenue=sum SalesAmount, units=sum OrderQuantity, orders=count distinct SalesOrderNumber, gross_margin=sum(SalesAmount-TotalProductCost), avg_order_value=revenue/orders.'\n",
    "TBLPROPERTIES (\n",
    "  delta.enableChangeDataFeed = true,\n",
    "  delta.autoOptimize.optimizeWrite = true,\n",
    "  delta.autoOptimize.autoCompact = true\n",
    ")\n",
    "PARTITIONED BY (channel, yyyymm)\n",
    "AS\n",
    "SELECT\n",
    "  yyyymm,\n",
    "  channel,\n",
    "  product_category,\n",
    "  product_subcategory,\n",
    "  SUM(SalesAmount) AS revenue,\n",
    "  SUM(OrderQuantity) AS units,\n",
    "  COUNT(DISTINCT SalesOrderNumber) AS orders,\n",
    "  SUM(SalesAmount - TotalProductCost) AS gross_margin,\n",
    "  CASE WHEN COUNT(DISTINCT SalesOrderNumber) = 0 THEN NULL ELSE SUM(SalesAmount)/COUNT(DISTINCT SalesOrderNumber) END AS avg_order_value\n",
    "FROM ({sales_base_sql})\n",
    "GROUP BY yyyymm, channel, product_category, product_subcategory\n",
    "\"\"\")\n",
    "\n",
    "# --- Verification: Table exists, row count > 0, preview top 10 ---\n",
    "show_df = spark.sql(f\"SHOW TABLES IN {CATALOG}.{GOLD_SCHEMA} LIKE '{GOLD_TABLE}'\")\n",
    "assert show_df.count() == 1, f\"Table {GOLD_PATH} not found after creation!\"\n",
    "\n",
    "row_count = spark.sql(f\"SELECT COUNT(*) AS n FROM {GOLD_PATH}\").collect()[0]['n']\n",
    "assert row_count > 0, f\"{GOLD_PATH} has no rows!\"\n",
    "\n",
    "display(spark.sql(f\"SELECT * FROM {GOLD_PATH} ORDER BY yyyymm DESC, revenue DESC LIMIT 10\"))"
   ]
  },
  {
   "cell_type": "code",
   "execution_count": 0,
   "metadata": {
    "application/vnd.databricks.v1+cell": {
     "cellMetadata": {
      "byteLimit": 2048000,
      "implicitDf": true,
      "rowLimit": 10000
     },
     "inputWidgets": {},
     "nuid": "439920ef-a0fa-4dc2-a757-8c84971e335c",
     "showTitle": false,
     "tableResultSettingsMap": {},
     "title": ""
    }
   },
   "outputs": [],
   "source": [
    "%sql\n",
    "SELECT\n",
    "  CustomerKey,\n",
    "  SUM(SalesAmount) AS total_sales_amount,\n",
    "  SUM(OrderQuantity) AS total_order_quantity,\n",
    "  COUNT(DISTINCT SalesOrderNumber) AS orders,\n",
    "  SUM(TotalProductCost) AS total_product_cost,\n",
    "  MIN(OrderDateKey) AS first_order_date,\n",
    "  MAX(OrderDateKey) AS last_order_date\n",
    "  -- Add more aggregations as needed\n",
    "FROM vibecoding.silver.FactInternetSales\n",
    "GROUP BY CustomerKey\n",
    "ORDER BY CustomerKey"
   ]
  },
  {
   "cell_type": "code",
   "execution_count": 0,
   "metadata": {
    "application/vnd.databricks.v1+cell": {
     "cellMetadata": {
      "byteLimit": 2048000,
      "rowLimit": 10000
     },
     "inputWidgets": {},
     "nuid": "f9906e02-60e3-4edd-b942-28bae25f1340",
     "showTitle": false,
     "tableResultSettingsMap": {},
     "title": ""
    }
   },
   "outputs": [],
   "source": []
  }
 ],
 "metadata": {
  "application/vnd.databricks.v1+notebook": {
   "computePreferences": null,
   "dashboards": [],
   "environmentMetadata": {
    "base_environment": "",
    "environment_version": "2"
   },
   "inputWidgetPreferences": null,
   "language": "python",
   "notebookMetadata": {
    "mostRecentlyExecutedCommandWithImplicitDF": {
     "commandId": 5958476454268524,
     "dataframes": [
      "_sqldf"
     ]
    },
    "pythonIndentUnit": 4
   },
   "notebookName": "Vibe Coding - Gold (serve)",
   "widgets": {
    "CATALOG": {
     "currentValue": "vibecoding",
     "nuid": "17f1241c-8690-4e16-a927-91ee80542e91",
     "typedWidgetInfo": {
      "autoCreated": false,
      "defaultValue": "AdventureWorksDW2017",
      "label": "Catalog Name",
      "name": "CATALOG",
      "options": {
       "widgetDisplayType": "Text",
       "validationRegex": null
      },
      "parameterDataType": "String"
     },
     "widgetInfo": {
      "widgetType": "text",
      "defaultValue": "AdventureWorksDW2017",
      "label": "Catalog Name",
      "name": "CATALOG",
      "options": {
       "widgetType": "text",
       "autoCreated": null,
       "validationRegex": null
      }
     }
    },
    "GOLD_SCHEMA": {
     "currentValue": "gold",
     "nuid": "55f59a9e-f733-4d5a-a943-af9dadb4b08c",
     "typedWidgetInfo": {
      "autoCreated": false,
      "defaultValue": "gold",
      "label": "Gold Schema Name",
      "name": "GOLD_SCHEMA",
      "options": {
       "widgetDisplayType": "Text",
       "validationRegex": null
      },
      "parameterDataType": "String"
     },
     "widgetInfo": {
      "widgetType": "text",
      "defaultValue": "gold",
      "label": "Gold Schema Name",
      "name": "GOLD_SCHEMA",
      "options": {
       "widgetType": "text",
       "autoCreated": null,
       "validationRegex": null
      }
     }
    },
    "SILVER_SCHEMA": {
     "currentValue": "silver",
     "nuid": "961e3da0-bf5f-47a6-9ad1-7baf8b60d36e",
     "typedWidgetInfo": {
      "autoCreated": false,
      "defaultValue": "silver",
      "label": "Silver Schema Name",
      "name": "SILVER_SCHEMA",
      "options": {
       "widgetDisplayType": "Text",
       "validationRegex": null
      },
      "parameterDataType": "String"
     },
     "widgetInfo": {
      "widgetType": "text",
      "defaultValue": "silver",
      "label": "Silver Schema Name",
      "name": "SILVER_SCHEMA",
      "options": {
       "widgetType": "text",
       "autoCreated": null,
       "validationRegex": null
      }
     }
    }
   }
  },
  "language_info": {
   "name": "python"
  }
 },
 "nbformat": 4,
 "nbformat_minor": 0
}
